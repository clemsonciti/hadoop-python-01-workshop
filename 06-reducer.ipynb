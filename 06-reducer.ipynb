{
 "cells": [
  {
   "cell_type": "markdown",
   "metadata": {},
   "source": [
    "---\n",
    "layout: page\n",
    "title: Introduction to Hadoop\n",
    "subtitle: Creating a Reducer\n",
    "minutes: 15\n",
    "---\n",
    "> ## Learning Objectives {.objectives}\n",
    ">\n",
    "> *   Create python-based reducer function and test against non-Hadoop input\n",
    "\n",
    "Each reducer will process a collection of KEYS, each KEY associated with a set\n",
    "of VALUEs. It should be noted that in a Python-based Hadoop Streaming\n",
    "environment, intermediate data come into each reducer not as a collection of\n",
    "separated KEY/VALUES groups, but still as a single stream of data whose elements\n",
    "are sorted by KEYs. Create a Python file named **reducer01.py** with the\n",
    "following content:\n",
    "\n",
    "\n",
    "~~~ {.bash}\n",
    "#!/usr/bin/env python\n",
    "import sys\n",
    "\n",
    "current_movie = None\n",
    "current_rating_sum = 0\n",
    "current_rating_count = 0\n",
    "\n",
    "for line in sys.stdin:\n",
    "  line = line.strip()\n",
    "  movie, rating = line.split(\"\\t\", 1)\n",
    "  try:\n",
    "    rating = float(rating)\n",
    "  except ValueError:\n",
    "    continue\n",
    "\n",
    "  if current_movie == movie:\n",
    "    current_rating_sum += rating\n",
    "    current_rating_count += 1\n",
    "  else:\n",
    "    if current_movie:\n",
    "      rating_average = current_rating_sum / current_rating_count\n",
    "      print (\"%s\\t%s\" % (current_movie, rating_average))\n",
    "    current_movie = movie\n",
    "    current_rating_sum = rating\n",
    "    current_rating_count = 1\n",
    "\n",
    "if current_movie == movie:\n",
    "  rating_average = current_rating_sum / current_rating_count\n",
    "  print (\"%s\\t%s\" % (current_movie, rating_average))\n",
    "~~~\n",
    "\n",
    "To test this script on non-Hadoop data, we can run the following command:"
   ]
  },
  {
   "cell_type": "code",
   "execution_count": 4,
   "metadata": {
    "collapsed": false
   },
   "outputs": [
    {
     "name": "stdout",
     "output_type": "stream",
     "text": [
      "Boomerang (1992)\t5.0\r\n",
      "Dumb & Dumber (1994)\t5.0\r\n",
      "Flintstones, The (1994)\t5.0\r\n",
      "Forrest Gump (1994)\t5.0\r\n",
      "Jungle Book, The (1994)\t5.0\r\n",
      "Lion King, The (1994)\t5.0\r\n",
      "Net, The (1995)\t5.0\r\n",
      "Outbreak (1995)\t5.0\r\n",
      "Stargate (1994)\t5.0\r\n",
      "Star Trek: Generations (1994)\t5.0\r\n"
     ]
    }
   ],
   "source": [
    "!ssh dsciu001 hdfs dfs -cat /user/lngo/intro-to-hadoop/ml-10M100K/ratings.dat 2>/dev/null \\\n",
    "    | head -n 10 \\\n",
    "    | python /home/lngo/intro-to-hadoop/mapper02.py \\\n",
    "    | sort \\\n",
    "    | python /home/lngo/intro-to-hadoop/reducer01.py"
   ]
  },
  {
   "cell_type": "markdown",
   "metadata": {},
   "source": [
    "The **sort** pipe in the middle will sort all the intermediate data coming from\n",
    "the mapper, effectively emulate Hadoop's shuffle behavior. This test is somewhat\n",
    "meaningless, as it only tells us that there is no error in our reduce code, but\n",
    "it does not tell us whether our reducer works correctly or not. We need to test\n",
    "for the following:\n",
    "1. Do all instances of all pairs coming from the mapper arrive at the reducer?\n",
    "2. Are the calculations correct?\n",
    "\n",
    "In order to do this, typically we would need to set up a smaller sample data set\n",
    "and manually verify the answers to all the above question. Alternatively, we\n",
    "can also leverage Linux's capabilities to customize our mapping pipeline."
   ]
  },
  {
   "cell_type": "code",
   "execution_count": 9,
   "metadata": {
    "collapsed": false
   },
   "outputs": [
    {
     "name": "stdout",
     "output_type": "stream",
     "text": [
      "Matrix, The (1999)\t5.0\r\n",
      "Matrix, The (1999)\t5.0\r\n",
      "Matrix Reloaded, The (2003)\t4.0\r\n",
      "Matrix Revolutions, The (2003)\t4.0\r\n",
      "Matrix, The (1999)\t5.0\r\n",
      "Matrix, The (1999)\t1.0\r\n"
     ]
    }
   ],
   "source": [
    "!ssh dsciu001 hdfs dfs -cat /user/lngo/intro-to-hadoop/ml-10M100K/ratings.dat 2>/dev/null \\\n",
    "    | head -n 2000 | python /home/lngo/intro-to-hadoop/mapper02.py | grep Matrix"
   ]
  },
  {
   "cell_type": "markdown",
   "metadata": {},
   "source": [
    "The above adjusted command lists five possible instances of review for\n",
    "**The Matrix**. We also modify the reducer to include the values of\n",
    "**current_rating_sum** and **current_rating_count** in the output report:\n",
    "~~~ {.bash}\n",
    "print (\"%s\\t%s\\t%s\\t%s\" % (current_movie, rating_average, current_rating_sum, current_rating_count))\n",
    "~~~\n",
    "\n",
    "Testing this output against the reducer, we observe that our reducer's\n",
    "operations are correct."
   ]
  },
  {
   "cell_type": "code",
   "execution_count": 11,
   "metadata": {
    "collapsed": false
   },
   "outputs": [
    {
     "name": "stdout",
     "output_type": "stream",
     "text": [
      "Matrix Reloaded, The (2003)\t4.0\t4.0\t1\r\n",
      "Matrix Revolutions, The (2003)\t4.0\t4.0\t1\r\n",
      "Matrix, The (1999)\t4.0\t16.0\t4\r\n"
     ]
    }
   ],
   "source": [
    "!ssh dsciu001 hdfs dfs -cat /user/lngo/intro-to-hadoop/ml-10M100K/ratings.dat 2>/dev/null \\\n",
    "    | head -n 2000 | python /home/lngo/intro-to-hadoop/mapper02.py \\\n",
    "    | grep Matrix | sort \\\n",
    "    | python /home/lngo/intro-to-hadoop/reducer02.py"
   ]
  },
  {
   "cell_type": "markdown",
   "metadata": {
    "collapsed": true
   },
   "source": [
    "## Check your understanding: Map genres to ratings {.challenge}\n",
    "While the reducer code uses variables such as movie and current_movie, in\n",
    "principle, this reducer can take any set of KEY/GROUP OF VALUES and calculate\n",
    "the average value of this KEY. Use this reducer together with **mapGenre.py** to\n",
    "test the finding of rating averages of movie genres."
   ]
  }
 ],
 "metadata": {
  "kernelspec": {
   "display_name": "Anaconda 2.5.0 (Python 3)",
   "language": "python",
   "name": "anaconda_2.5.0_python3"
  },
  "language_info": {
   "codemirror_mode": {
    "name": "ipython",
    "version": 3
   },
   "file_extension": ".py",
   "mimetype": "text/x-python",
   "name": "python",
   "nbconvert_exporter": "python",
   "pygments_lexer": "ipython3",
   "version": "3.5.1"
  }
 },
 "nbformat": 4,
 "nbformat_minor": 0
}
