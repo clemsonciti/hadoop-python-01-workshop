{
 "cells": [
  {
   "cell_type": "code",
   "execution_count": null,
   "metadata": {
    "collapsed": true
   },
   "outputs": [],
   "source": [
    "---\n",
    "layout: page\n",
    "title: Introduction to Hadoop\n",
    "subtitle: Streaming MapReduce\n",
    "minutes: 10\n",
    "---\n",
    "> ## Learning Objectives {.objectives}\n",
    ">\n",
    "> *   Understand how to run Hadoop MapReduce programs\n",
    "> *   Create Hadoop MapReduce commands to run external programs as\n",
    ">     mappers and reducers\n",
    "\n",
    "Any Application-related interactions between users, the Hadoop MapReduce\n",
    "framework, and HDFS are done though YARN, Hadoop' default resource manager. The\n",
    "most common interactions include submitting applications to YARN and inquiring\n",
    "about the status of the applications. The generic syntax is:\n",
    "\n",
    "    yarn COMMAND --loglevel loglevel [generic_options] [command_options]\n",
    "\n",
    "Starting from the least to the most verbose, we have FATAL, ERROR, WARN, INFO,\n",
    "DEBUG, and TRACE. Default level is INFO.\n",
    "\n",
    "generic_options | Description |\n",
    "----------------|-------------|\n",
    "`-archives <comma separated list of archives>` | Specify archives to be unarchived on the compute machines. Applies only to job |\n",
    "`-conf <configuration file>` | Specify an application configuration file |\n",
    "`-D <property>=<value>` | Use value for a given property |\n",
    "`-files <comma separated list of files>` | Specify files to be copied to the cluster. Applies only to job |\n",
    "`-jt <local> or <resourcemanager:port>` | Specify a ResourceManager. Applies only to job |\n",
    "`-libjars <comma separated list of jars>` | Specify the jar files to include in the classpath. Applies only to job.\n",
    "\n",
    "#### COMMAND: jar\n",
    "Run a jar file as an application on Cypress. Usage:\n",
    "\n",
    "    yarn jar <jar file> [mainClass] args ...\n",
    "\n",
    "Typically, YARN applications are written in Java and bundled into jar files to be executed. However, Hadoop also supports the execution of non-Java applications via the Hadoop Streaming utility. This utility allows you to use any executable or scripts as the mapper and/or the reducer for a YARN application. Usage:\n",
    "\n",
    "    yarn jar /usr/hdp/current/hadoop-mapreduce-client/hadoop-streaming.jar [generic_options] [streaming_options]\n",
    "\n",
    "streaming_options | Optional/Required | Description |\n",
    "------------------|-------------------|-------------|\n",
    "`-input directoryname or filename` | Required | Input location for mapper |\n",
    "`-output directoryname` | Required | Output location for reducer |\n",
    "\n",
    "`-mapper executable or JavaClassName` | Required | Mapper executable |\n",
    "`-reducer executable or JavaClassName` | Required | Reducer executable |\n",
    "`-file filename` | Optional |  Make the mapper, reducer, or combiner executable available locally on the compute nodes |\n",
    "`-inputformat JavaClassName` | Optional | Class you supply should return key/value pairs of Text class. If not specified, TextInputFormat is used as the default |\n",
    "`-outputformat JavaClassName` | Optional | Class you supply should take key/value pairs of Text class. If not specified, TextOutputformat is used as the default |\n",
    "`-partitioner JavaClassName` | Optional | Class that determines which reduce a key is sent to |\n",
    "`-combiner executable or JavaClassName` | Optional | Combiner executable for map output |\n",
    "`-cmdenv name=value` | Optional | Pass environment variable to streaming commands |\n",
    "`-inputreader JavaClassName` | Optional | For backwards-compatibility: specifies a record reader class (instead of an input format class) |\n",
    "`-verbose` | Optional | Verbose output |\n",
    "`-lazyOutput` | Optional | Create output lazily. For example, if the output format is based on FileOutputFormat, the output file is created only on the first call to Context.write |\n",
    "`-numReduceTasks` | Optional | Specify the number of reducers |\n",
    "`-mapdebug` | Optional | Script to call when map task fails |\n",
    "`-reducedebug` | Optional | Script to call when reduce task fails |\n",
    "\n",
    "To demonstrate Hadoop Streaming functionality, let's look at the problem of\n",
    "counting how many instances of \"thou\" there are in Gutenberg's complete work of\n",
    "Shakespeare."
   ]
  },
  {
   "cell_type": "code",
   "execution_count": null,
   "metadata": {
    "collapsed": true
   },
   "outputs": [],
   "source": [
    "!ssh dsciu001 yarn jar /usr/hdp/current/hadoop-mapreduce-client/hadoop-streaming.jar \\\n",
    "    -input intro-to-hadoop/gutenberg-shakespeare.txt  \\\n",
    "    -output thou-count -mapper \"grep -e thou\" -reducer \"wc -w\""
   ]
  },
  {
   "cell_type": "code",
   "execution_count": null,
   "metadata": {
    "collapsed": true
   },
   "outputs": [],
   "source": [
    "Several items need to be paid attention to in the above example. First, the\n",
    "location of the input and output directories are relative. That is, without an\n",
    "initial backslash (**/**), YARN assumes that the path starts from inside user's\n",
    "home directory on HDFS, which is **/user/user-name**. Second, the output\n",
    "directory must not exist prior to the *yarn jar* call, otherwise, the command\n",
    "will fail with an *output directory already exists* error.  "
   ]
  }
 ],
 "metadata": {
  "kernelspec": {
   "display_name": "Anaconda 2.5.0 (Python 3)",
   "language": "python",
   "name": "anaconda_2.5.0_python3"
  },
  "language_info": {
   "codemirror_mode": {
    "name": "ipython",
    "version": 3
   },
   "file_extension": ".py",
   "mimetype": "text/x-python",
   "name": "python",
   "nbconvert_exporter": "python",
   "pygments_lexer": "ipython3",
   "version": "3.5.1"
  }
 },
 "nbformat": 4,
 "nbformat_minor": 0
}
